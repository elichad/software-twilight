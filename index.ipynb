{
 "cells": [
  {
   "cell_type": "markdown",
   "source": [
    "# Software Twilight\n",
    "This is a short questionnaire that will allow you to think about the medium to long term destiny of your code. We'll generate some appropriate badges you can share in your repositories so that users know whom to refer to for issue, if the code is maintained and until which date."
   ],
   "metadata": {
    "collapsed": false,
    "pycharm": {
     "name": "#%% md\n"
    }
   }
  },
  {
   "cell_type": "code",
   "execution_count": 70,
   "metadata": {
    "collapsed": true
   },
   "outputs": [
    {
     "data": {
      "text/plain": "VBox(children=(Button(description='Reset Questionnaire', style=ButtonStyle()), Label(value=\"What's your age?\")…",
      "application/vnd.jupyter.widget-view+json": {
       "version_major": 2,
       "version_minor": 0,
       "model_id": "3bedf70b276d4384a5b50f6abe054a16"
      }
     },
     "metadata": {},
     "output_type": "display_data"
    },
    {
     "name": "stdout",
     "output_type": "stream",
     "text": [
      "What's your age? <20\n",
      "Are you blonde? yes\n",
      "This is your badge: Yai!!\n"
     ]
    }
   ],
   "source": [
    "import ipywidgets as widgets\n",
    "from typing import List, Any\n",
    "# from .backend import put_answer, get_badge, get_question, reset\n",
    "\n",
    "\"\"\"\n",
    "Functions to be imported from backend\n",
    "These are just dummy replacements to check the code\n",
    "\"\"\"\n",
    "def put_answer(q, a):\n",
    "    print(q, a)\n",
    "\n",
    "def get_badge():\n",
    "    print(\"This is your badge: Yai!!\")\n",
    "\n",
    "def _get_question():\n",
    "    questions_data = {\"What's your age?\": [\"<20\", \"21-40\", \">41\"],\n",
    "         \"Are you blonde?\": [\"yes\", \"no\"]}\n",
    "    for k, v in questions_data.items():\n",
    "        yield True, (k, list(v))\n",
    "\n",
    "    yield False, (None, None)\n",
    "\n",
    "gen_question = _get_question()\n",
    "def get_question():\n",
    "    return next(gen_question)\n",
    "\n",
    "def reset():\n",
    "    global gen_question\n",
    "    gen_question = _get_question()\n",
    "\"\"\"\n",
    "Until here\n",
    "\"\"\"\n",
    "\n",
    "\n",
    "class QuestionBlock:\n",
    "    def __init__(self):\n",
    "        self.question = widgets.Label(\"\")\n",
    "        self.answers = widgets.RadioButtons(options=[], disabled=False)\n",
    "        self.confirm_button = widgets.Button(description=\"Next\", disabled=False, button_style=\"\", icon=\"check\")\n",
    "        self.confirm_button.on_click(self.confirm_answer)\n",
    "        self.reset_btn = widgets.Button(description=\"Reset Questionnaire\", disabled=False, button_style=\"\")\n",
    "        self.reset_btn.on_click(self.reset)\n",
    "\n",
    "    def confirm_answer(self, args):\n",
    "        \"\"\"Confirms the chosen answer and moves continues the process.\"\"\"\n",
    "        put_answer(self.question.value, self.answers.value)\n",
    "        self.process()\n",
    "\n",
    "    def update_question(self, q: str, a: List[str]):\n",
    "        \"\"\"Updates the question based in questions and options provided.\"\"\"\n",
    "        self.question.value = q\n",
    "        self.answers.options = a\n",
    "        return widgets.VBox([self.reset_btn, self.question, self.answers, self.confirm_button])\n",
    "\n",
    "    def reset(self, args):\n",
    "        \"\"\"Resets the questionnaire, going back to the first question.\"\"\"\n",
    "        reset()\n",
    "        self.confirm_button.description = \"Next\"\n",
    "        self.confirm_button.disabled = False\n",
    "        self.process()\n",
    "\n",
    "    def process(self) -> Any:\n",
    "        \"\"\"Process the next question, if any, and proceeds according to the status.\n",
    "\n",
    "        If there is a question, this updates question and options. If there is none,\n",
    "        then the button is disabled and the badge is produced.\n",
    "        \"\"\"\n",
    "        status, (q, a) = get_question()\n",
    "        if status:\n",
    "            return self.update_question(q, a)\n",
    "        else:\n",
    "            self.confirm_button.description = \"Done!\"\n",
    "            self.confirm_button.disabled = True\n",
    "            get_badge()\n",
    "\n",
    "qblock = QuestionBlock()\n",
    "qblock.process()\n"
   ]
  }
 ],
 "metadata": {
  "kernelspec": {
   "display_name": "Python 3",
   "language": "python",
   "name": "python3"
  },
  "language_info": {
   "codemirror_mode": {
    "name": "ipython",
    "version": 2
   },
   "file_extension": ".py",
   "mimetype": "text/x-python",
   "name": "python",
   "nbconvert_exporter": "python",
   "pygments_lexer": "ipython2",
   "version": "2.7.6"
  }
 },
 "nbformat": 4,
 "nbformat_minor": 0
}