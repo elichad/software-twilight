{
 "cells": [
  {
   "cell_type": "code",
   "execution_count": 1,
   "metadata": {},
   "outputs": [],
   "source": [
    "from ipywidgets import widgets\n",
    "from Ipython.display import display\n",
    "import requests\n"
   ]
  },
  {
   "cell_type": "markdown",
   "metadata": {},
   "source": [
    "####Software Twilight\n",
    "\n",
    "This is a short questionnaire that will allow you to think about the medium to long term destiny of your code.\n",
    "We'll generate some appropriate badges you can share in your repositories so that users know whom to refer to for issue, if the code is maintained and until which date."
   ]
  },
  {
   "cell_type": "code",
   "execution_count": null,
   "metadata": {},
   "outputs": [],
   "source": [
    " \n",
    "status = True\n",
    "while status:\n",
    "    question =  get_question()\n",
    "    status = question[0]\n",
    "    question_text = question[1][0]\n",
    "    options = question[1][1]\n",
    "    answer = widgets.RadioButtons(description = question_text, options=options)\n",
    "    put_answer(question_text, answer)\n",
    "    \n",
    "badges_html = get_badge()\n"
   ]
  },
  {
   "cell_type": "markdown",
   "metadata": {},
   "source": [
    "These are the appropriate badges for your repository."
   ]
  },
  {
   "cell_type": "code",
   "execution_count": null,
   "metadata": {},
   "outputs": [],
   "source": [
    "for image in badges_html:\n",
    "    display.Image(requests.get(image).content)"
   ]
  },
  {
   "cell_type": "markdown",
   "metadata": {},
   "source": [
    "You can add them pasting the below HTML code at the top of your README.md file:"
   ]
  },
  {
   "cell_type": "code",
   "execution_count": null,
   "metadata": {},
   "outputs": [],
   "source": [
    "for badge in badges_html:\n",
    "    print(badge)"
   ]
  }
 ],
 "metadata": {
  "kernelspec": {
   "display_name": "Python 3",
   "language": "python",
   "name": "python3"
  },
  "language_info": {
   "codemirror_mode": {
    "name": "ipython",
    "version": 3
   },
   "file_extension": ".py",
   "mimetype": "text/x-python",
   "name": "python",
   "nbconvert_exporter": "python",
   "pygments_lexer": "ipython3",
   "version": "3.7.1"
  }
 },
 "nbformat": 4,
 "nbformat_minor": 1
}
