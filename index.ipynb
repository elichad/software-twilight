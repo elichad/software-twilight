{
 "cells": [
  {
   "cell_type": "code",
   "execution_count": 54,
   "metadata": {
    "collapsed": true
   },
   "outputs": [
    {
     "data": {
      "text/plain": "VBox(children=(Label(value=\"What's your age?\"), RadioButtons(options=('<20', '21-40', '>41'), value='<20'), Bu…",
      "application/vnd.jupyter.widget-view+json": {
       "version_major": 2,
       "version_minor": 0,
       "model_id": "478c3b4adce34e2f9d613a8671927c31"
      }
     },
     "metadata": {},
     "output_type": "display_data"
    },
    {
     "name": "stdout",
     "output_type": "stream",
     "text": [
      "What's your age? <20\n",
      "Are you blonde? yes\n",
      "This is your badge: Yai!!\n"
     ]
    }
   ],
   "source": [
    "import ipywidgets as widgets\n",
    "from typing import List, Any\n",
    "# from .backend import put_answer, get_badge, get_question\n",
    "\n",
    "\"\"\"\n",
    "Functions to be imported from backend\n",
    "These are just dummy replacements to check the code\n",
    "\"\"\"\n",
    "def put_answer(q, a):\n",
    "    print(q, a)\n",
    "\n",
    "def get_badge():\n",
    "    print(\"This is your badge: Yai!!\")\n",
    "\n",
    "def _get_question():\n",
    "    questions_data = {\"What's your age?\": [\"<20\", \"21-40\", \">41\"],\n",
    "         \"Are you blonde?\": [\"yes\", \"no\"]}\n",
    "    for k, v in questions_data.items():\n",
    "        yield True, (k, list(v))\n",
    "\n",
    "    yield False, (None, None)\n",
    "\n",
    "gen_question = _get_question()\n",
    "def get_question():\n",
    "    return next(gen_question)\n",
    "\"\"\"\n",
    "Until here\n",
    "\"\"\"\n",
    "\n",
    "class QuestionBlock:\n",
    "    def __init__(self):\n",
    "        self.question = widgets.Label(\"\")\n",
    "        self.answers = widgets.RadioButtons(options=[], disabled=False)\n",
    "        self.confirm_button = widgets.Button(description=\"Next\", disabled=False, button_style=\"\", icon=\"check\")\n",
    "        self.confirm_button.on_click(self.confirm_answer)\n",
    "\n",
    "    def confirm_answer(self, args):\n",
    "        \"\"\"Confirms the chosen answer and moves continues the process.\"\"\"\n",
    "        put_answer(self.question.value, self.answers.value)\n",
    "        self.process()\n",
    "\n",
    "    def update_question(self, q: str, a: List[str]):\n",
    "        \"\"\"Updates the question based in questions and options provided.\"\"\"\n",
    "        self.question.value = q\n",
    "        self.answers.options = a\n",
    "        return widgets.VBox([self.question, self.answers, self.confirm_button])\n",
    "\n",
    "    def process(self) -> Any:\n",
    "        \"\"\"Process the next question, if any, and proceeds according to the status.\"\"\"\n",
    "        status, (q, a) = get_question()\n",
    "        if status:\n",
    "            return self.update_question(q, a)\n",
    "        else:\n",
    "            get_badge()\n",
    "\n",
    "qblock = QuestionBlock()\n",
    "qblock.process()\n"
   ]
  }
 ],
 "metadata": {
  "kernelspec": {
   "display_name": "Python 3",
   "language": "python",
   "name": "python3"
  },
  "language_info": {
   "codemirror_mode": {
    "name": "ipython",
    "version": 2
   },
   "file_extension": ".py",
   "mimetype": "text/x-python",
   "name": "python",
   "nbconvert_exporter": "python",
   "pygments_lexer": "ipython2",
   "version": "2.7.6"
  }
 },
 "nbformat": 4,
 "nbformat_minor": 0
}